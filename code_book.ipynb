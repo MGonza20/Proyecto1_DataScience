{
 "cells": [
  {
   "cell_type": "markdown",
   "id": "9a8df4d3-dd12-424a-9ccd-4b79cba0503e",
   "metadata": {},
   "source": [
    "# Libro de Código\n",
    "\n",
    "## Variables\n",
    "\n",
    "* **CODIGO** - (Cualitativo ordinal)\n",
    "* **DISTRITO** - (Cualitativo nominal)\n",
    "* **DEPARTAMENTO** - (Cualitativo nominal)\n",
    "* **MUNICIPIO** - (Cualitativo nominal)\n",
    "* **ESTABLECIMIENTO** - (Cualitativo nominal)\n",
    "* **DIRECCIÓN** - (Cualitativo nominal)\n",
    "* **TELÉFONO** - (Cualitativo nominal)\n",
    "* **SUPERVISOR** - (Cualitativo nominal)\n",
    "* **DIRECTOR** - (Cualitativo nominal)\n",
    "* **NIVEL** - (Cualitativo ordinal)\n",
    "* **SECTOR** - (Cualitativo nominal)\n",
    "* **ÁREA** - (Cualitativo nominal)\n",
    "* **STATUS** - (Cualitativo nominal)\n",
    "* **MODALIDAD** - (Cualitativo nominal)\n",
    "* **JORNADA** - (Cualitativo nominal)\n",
    "* **PLAN** - (Cualitativo nominal)\n",
    "* **DEPARTAMENTAL** - (Cualitativo nominal)"
   ]
  },
  {
   "cell_type": "code",
   "execution_count": null,
   "id": "18f2a931-388c-4cdf-bd70-68e2bd0c6600",
   "metadata": {},
   "outputs": [],
   "source": []
  }
 ],
 "metadata": {
  "kernelspec": {
   "display_name": "Python 3 (ipykernel)",
   "language": "python",
   "name": "python3"
  },
  "language_info": {
   "codemirror_mode": {
    "name": "ipython",
    "version": 3
   },
   "file_extension": ".py",
   "mimetype": "text/x-python",
   "name": "python",
   "nbconvert_exporter": "python",
   "pygments_lexer": "ipython3",
   "version": "3.11.4"
  }
 },
 "nbformat": 4,
 "nbformat_minor": 5
}
