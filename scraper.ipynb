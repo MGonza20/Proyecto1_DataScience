{
 "cells": [
  {
   "cell_type": "code",
   "execution_count": 1,
   "metadata": {},
   "outputs": [],
   "source": [
    "from selenium import webdriver\n",
    "from selenium.webdriver.support.ui import Select\n",
    "from selenium.webdriver.common.by import By\n",
    "from selenium.webdriver.support.ui import WebDriverWait\n",
    "from selenium.webdriver.support import expected_conditions as EC\n",
    "import pandas as pd\n",
    "import lxml "
   ]
  },
  {
   "cell_type": "code",
   "execution_count": 2,
   "metadata": {},
   "outputs": [],
   "source": [
    "def scrape_website(departamento, municipio):\n",
    "    # Inicia el driver (asegúrate de tener ChromeDriver en tu PATH)\n",
    "    driver = webdriver.Chrome()\n",
    "\n",
    "    # Navega a la página web\n",
    "    driver.get(\"https://www.mineduc.gob.gt/BUSCAESTABLECIMIENTO_GE/\")\n",
    "\n",
    "    # Espera a que el selector del departamento esté presente\n",
    "    wait = WebDriverWait(driver, 10)\n",
    "    element_departamento = wait.until(EC.presence_of_element_located((By.ID, \"_ctl0_ContentPlaceHolder1_cmbDepartamento\")))\n",
    "\n",
    "    # Selecciona el departamento\n",
    "    select_departamento = Select(element_departamento)\n",
    "    select_departamento.select_by_visible_text(departamento)\n",
    "\n",
    "    # Espera a que el selector del municipio esté presente\n",
    "    element_municipio = wait.until(EC.presence_of_element_located((By.ID, \"_ctl0_ContentPlaceHolder1_cmbMunicipio\")))\n",
    "\n",
    "    # Selecciona el municipio\n",
    "    select_municipio = Select(element_municipio)\n",
    "    select_municipio.select_by_visible_text(municipio)\n",
    "\n",
    "    # Espera a que el botón esté presente y haz clic en él\n",
    "    button = wait.until(EC.element_to_be_clickable((By.ID, \"_ctl0_ContentPlaceHolder1_IbtnConsultar\")))\n",
    "    button.click()\n",
    "\n",
    "    # Espera a que la página se recargue después de hacer clic en el botón\n",
    "    #wait.until(EC.staleness_of(driver.find_element(By.ID, \"_ctl0_ContentPlaceHolder1_dgResultado\")))\n",
    "\n",
    "    # Asegúrate de que la tabla se ha cargado completamente\n",
    "    wait.until(EC.presence_of_element_located((By.ID, \"_ctl0_ContentPlaceHolder1_dgResultado\")))\n",
    "\n",
    "    # Ahora que la tabla está cargada, raspa sus datos\n",
    "    table = driver.find_element(By.ID, \"_ctl0_ContentPlaceHolder1_dgResultado\")\n",
    "\n",
    "    # Podrías usar pandas para leer la tabla en un DataFrame\n",
    "    df = pd.read_html(table.get_attribute('outerHTML'))[0]\n",
    "    df = df.iloc[1:]\n",
    "    # Asigna los nombres correctos a las columnas\n",
    "    df.columns = ['NA','CODIGO', 'DISTRITO', 'DEPARTAMENTO', 'MUNICIPIO', 'ESTABLECIMIENTO', \n",
    "              'DIRECCION', 'TELEFONO', 'SUPERVISOR', 'DIRECTOR', 'NIVEL', \n",
    "              'SECTOR', 'AREA', 'STATUS', 'MODALIDAD', 'JORNADA', 'PLAN', 'DEPARTAMENTAL']\n",
    "    # Eliminar todoas las filas donde el nivel no sea DIVERSIFICADO\n",
    "    df = df[df['NIVEL'] == 'DIVERSIFICADO']\n",
    "    \n",
    "    # Cierra el driver\n",
    "    driver.quit()\n",
    "\n",
    "    return df\n",
    "\n"
   ]
  },
  {
   "cell_type": "code",
   "execution_count": 3,
   "metadata": {},
   "outputs": [
    {
     "name": "stdout",
     "output_type": "stream",
     "text": [
      "ALTA VERAPAZ\n"
     ]
    },
    {
     "name": "stderr",
     "output_type": "stream",
     "text": [
      "Error getting version of chromedriver 115. Retrying with chromedriver 114 (attempt 1/5)\n"
     ]
    },
    {
     "name": "stdout",
     "output_type": "stream",
     "text": [
      "BAJA VERAPAZ\n",
      "CHIMALTENANGO\n",
      "CHIQUIMULA\n",
      "CIUDAD CAPITAL\n",
      "EL PROGRESO\n",
      "ESCUINTLA\n",
      "HUEHUETENANGO\n",
      "IZABAL\n",
      "JALAPA\n",
      "JUTIAPA\n",
      "PETEN\n",
      "QUETZALTENANGO\n",
      "QUICHE\n",
      "RETALHULEU\n",
      "SACATEPEQUEZ\n",
      "SAN MARCOS\n",
      "SANTA ROSA\n",
      "SOLOLA\n",
      "SUCHITEPEQUEZ\n",
      "TOTONICAPAN\n",
      "ZACAPA\n"
     ]
    }
   ],
   "source": [
    "# Usa la función\n",
    "departamentos = ['ALTA VERAPAZ','BAJA VERAPAZ','CHIMALTENANGO','CHIQUIMULA','CIUDAD CAPITAL','EL PROGRESO','ESCUINTLA', 'HUEHUETENANGO', 'IZABAL','JALAPA','JUTIAPA','PETEN','QUETZALTENANGO','QUICHE','RETALHULEU','SACATEPEQUEZ','SAN MARCOS','SANTA ROSA','SOLOLA','SUCHITEPEQUEZ','TOTONICAPAN','ZACAPA']\n",
    "\n",
    "for dep in departamentos:\n",
    "    print(dep)\n",
    "    df = scrape_website(dep, \"TODOS\")\n",
    "    # Guarda el archivo\n",
    "    \n",
    "    df.to_csv(f\"./data/{dep}.csv\", index=False)"
   ]
  },
  {
   "cell_type": "markdown",
   "metadata": {},
   "source": [
    "-- Tipos de vacios/Nas/NANS\n",
    "-- Tipos de datos\n",
    "-- Cantida dde colunmas y filas\n",
    "-- Solo valores de Diversificados"
   ]
  }
 ],
 "metadata": {
  "kernelspec": {
   "display_name": "scrapi",
   "language": "python",
   "name": "python3"
  },
  "language_info": {
   "codemirror_mode": {
    "name": "ipython",
    "version": 3
   },
   "file_extension": ".py",
   "mimetype": "text/x-python",
   "name": "python",
   "nbconvert_exporter": "python",
   "pygments_lexer": "ipython3",
   "version": "3.11.3"
  },
  "orig_nbformat": 4
 },
 "nbformat": 4,
 "nbformat_minor": 2
}
